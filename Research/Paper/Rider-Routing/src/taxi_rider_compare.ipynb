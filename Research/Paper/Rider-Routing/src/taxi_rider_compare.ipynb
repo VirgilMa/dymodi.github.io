{
 "cells": [
  {
   "cell_type": "code",
   "execution_count": 2,
   "metadata": {},
   "outputs": [],
   "source": [
    "'''\n",
    "Compare the taxi carpool and food delivery system\n",
    "focus on waiting time and on-road time\n",
    "Yi Ding\n",
    "06/06/18\n",
    "'''\n",
    "\n",
    "import pandas as pd\n",
    "import os\n",
    "import numpy as np\n",
    "import matplotlib\n",
    "import matplotlib.pyplot as plt"
   ]
  },
  {
   "cell_type": "code",
   "execution_count": 3,
   "metadata": {},
   "outputs": [],
   "source": [
    "# Read in data\n",
    "rideaustin = pd.read_csv(\n",
    "    '/Users/eleme-yi/Documents/PhD/GitHub Pages/dymodi.github.io/Research/Beacon/data/rideshare/Rides_DataA.csv')\n",
    "rideaustin['uid'] = rideaustin.index\n",
    "# print(rideaustin.head())\n",
    "\n",
    "elemedata = pd.read_excel(\n",
    "    # '/Users/eleme-yi/Documents/PhD/GitHub Pages/dymodi.github.io/Research/Beacon/data/rideshare/eleme_data.xlsx')\n",
    "    '/Users/eleme-yi/Documents/PhD/GitHub Pages/dymodi.github.io/Research/Beacon/data/rideshare/eleme_data_overtime.xlsx')\n",
    "elemedata['uid'] = elemedata.index\n",
    "# print(elemedata.head())"
   ]
  },
  {
   "cell_type": "code",
   "execution_count": 4,
   "metadata": {},
   "outputs": [],
   "source": [
    "# Convert to datetime\n",
    "# Warning: Very time-consuming\n",
    "# Taxi data\n",
    "df_datetime = pd.DataFrame()\n",
    "df_datetime['uid'] = rideaustin.index\n",
    "df_datetime['created_on'] = pd.to_datetime(rideaustin.created_date)\n",
    "df_datetime['driver_reached_on'] = pd.to_datetime(rideaustin.driver_reached_on)\n",
    "df_datetime['started_on'] = pd.to_datetime(rideaustin.started_on)\n",
    "df_datetime['completed_on'] = pd.to_datetime(rideaustin.completed_on)\n",
    "df_datetime['updated_on'] = pd.to_datetime(rideaustin.updated_date)\n",
    "# print(df_datetime.head())\n",
    "\n",
    "# Eleme data\n",
    "df_datetime_eleme = pd.DataFrame()\n",
    "df_datetime_eleme['uid'] = elemedata.index\n",
    "df_datetime_eleme['accept_at'] = pd.to_datetime(elemedata.accept_at)\n",
    "df_datetime_eleme['arrive_rst_at'] = pd.to_datetime(elemedata.arrive_rst_at)\n",
    "# df_datetime_eleme['arrive_rst_at'] = pd.to_datetime(elemedata.arrive_rst_at_beacon)\n",
    "df_datetime_eleme['pickup_at'] = pd.to_datetime(elemedata.pickup_at)\n",
    "# df_datetime_eleme['pickup_at'] = pd.to_datetime(elemedata.leave_rst_at_beacon)\n",
    "df_datetime_eleme['deliver_at'] = pd.to_datetime(elemedata.deliver_at)\n",
    "# print(df_datetime_eleme.head())"
   ]
  },
  {
   "cell_type": "code",
   "execution_count": 5,
   "metadata": {},
   "outputs": [
    {
     "ename": "Exception",
     "evalue": "Still has NaN in eleme data?",
     "output_type": "error",
     "traceback": [
      "\u001b[0;31m---------------------------------------------------------------------------\u001b[0m",
      "\u001b[0;31mException\u001b[0m                                 Traceback (most recent call last)",
      "\u001b[0;32m<ipython-input-5-0961b4281262>\u001b[0m in \u001b[0;36m<module>\u001b[0;34m()\u001b[0m\n\u001b[1;32m      4\u001b[0m     \u001b[0;32mraise\u001b[0m \u001b[0mException\u001b[0m\u001b[0;34m(\u001b[0m\u001b[0;34m'Still has NaN?'\u001b[0m\u001b[0;34m)\u001b[0m\u001b[0;34m\u001b[0m\u001b[0m\n\u001b[1;32m      5\u001b[0m \u001b[0;32mif\u001b[0m \u001b[0mdf_datetime_eleme\u001b[0m\u001b[0;34m.\u001b[0m\u001b[0misnull\u001b[0m\u001b[0;34m(\u001b[0m\u001b[0;34m)\u001b[0m\u001b[0;34m.\u001b[0m\u001b[0mvalues\u001b[0m\u001b[0;34m.\u001b[0m\u001b[0many\u001b[0m\u001b[0;34m(\u001b[0m\u001b[0;34m)\u001b[0m\u001b[0;34m:\u001b[0m\u001b[0;34m\u001b[0m\u001b[0m\n\u001b[0;32m----> 6\u001b[0;31m     \u001b[0;32mraise\u001b[0m \u001b[0mException\u001b[0m\u001b[0;34m(\u001b[0m\u001b[0;34m'Still has NaN in eleme data?'\u001b[0m\u001b[0;34m)\u001b[0m\u001b[0;34m\u001b[0m\u001b[0m\n\u001b[0m",
      "\u001b[0;31mException\u001b[0m: Still has NaN in eleme data?"
     ]
    }
   ],
   "source": [
    "# Check NaN in datetime dataframe\n",
    "df_datetime.dropna(inplace=True)\n",
    "if df_datetime.isnull().values.any():\n",
    "    raise Exception('Still has NaN?')\n",
    "if df_datetime_eleme.isnull().values.any():\n",
    "    raise Exception('Still has NaN in eleme data?')"
   ]
  },
  {
   "cell_type": "code",
   "execution_count": 6,
   "metadata": {},
   "outputs": [
    {
     "name": "stdout",
     "output_type": "stream",
     "text": [
      "   uid  created_on  driver_reached_on  started_on  completed_on  updated_on\n",
      "0    0  1465017019         1465017251  1465017529    1465018052  1465018068\n",
      "1    1  1465022859         1465023002  1465023012    1465023109  1465023120\n",
      "2    2  1465027987         1465028161  1465028162    1465028277  1465028287\n",
      "3    3  1465051955         1465052479  1465052713    1465053218  1465053240\n",
      "4    4  1465053805         1465053855  1465053865    1465053967  1465053976\n",
      "   uid   accept_at  arrive_rst_at   pickup_at  deliver_at\n",
      "0    0  1530127472     1530128052  1530128055  1530129434\n",
      "1    1  1530097704     1530098790  1530098803  1530099996\n",
      "2    2  1530098178     1530098706  1530099017  1530099813\n",
      "3    3  1530101318     1530101334  1530101927  1530103246\n",
      "4    4  1530101902     1530101926  1530102157  1530103722\n"
     ]
    }
   ],
   "source": [
    "# Convert to timestamp\n",
    "# Taxi data\n",
    "df_timestamp = pd.DataFrame()\n",
    "df_timestamp['uid'] = df_datetime.uid\n",
    "df_timestamp['created_on'] = df_datetime.created_on.values.astype(np.int64) // 10 ** 9\n",
    "df_timestamp['driver_reached_on'] = df_datetime.driver_reached_on.values.astype(np.int64) // 10 ** 9\n",
    "df_timestamp['started_on'] = df_datetime.started_on.values.astype(np.int64) // 10 ** 9\n",
    "df_timestamp['completed_on'] = df_datetime.completed_on.values.astype(np.int64) // 10 ** 9\n",
    "df_timestamp['updated_on'] = df_datetime.updated_on.values.astype(np.int64) // 10 ** 9\n",
    "print(df_timestamp.head())\n",
    "# Eleme data\n",
    "df_timestamp_eleme = pd.DataFrame()\n",
    "df_timestamp_eleme['uid'] = df_datetime_eleme.uid\n",
    "df_timestamp_eleme['accept_at'] = df_datetime_eleme.accept_at.values.astype(np.int64) // 10 ** 9\n",
    "df_timestamp_eleme['arrive_rst_at'] = df_datetime_eleme.arrive_rst_at.values.astype(np.int64) // 10 ** 9\n",
    "df_timestamp_eleme['pickup_at'] = df_datetime_eleme.pickup_at.values.astype(np.int64) // 10 ** 9\n",
    "df_timestamp_eleme['deliver_at'] = df_datetime_eleme.deliver_at.values.astype(np.int64) // 10 ** 9\n",
    "print(df_timestamp_eleme.head())"
   ]
  },
  {
   "cell_type": "code",
   "execution_count": 7,
   "metadata": {},
   "outputs": [
    {
     "name": "stdout",
     "output_type": "stream",
     "text": [
      "TAXI data head\n",
      "   uid  wait_time  drive_time  wait_ratio\n",
      "0    0        278         523    0.531549\n",
      "1    1         10          97    0.103093\n",
      "2    2          1         115    0.008696\n",
      "3    3        234         505    0.463366\n",
      "4    4         10         102    0.098039\n",
      "ELEME data head\n",
      "   uid  wait_time  drive_time  wait_ratio\n",
      "0    0        3.0      1379.0    0.002175\n",
      "1    1       13.0      1193.0    0.010897\n",
      "2    2      311.0       796.0    0.390704\n",
      "3    3      593.0      1319.0    0.449583\n",
      "4    4      231.0      1565.0    0.147604\n"
     ]
    }
   ],
   "source": [
    "# Get time difference\n",
    "# Taxi data\n",
    "df_timediff = pd.DataFrame()\n",
    "df_timediff['uid'] = df_timestamp.uid\n",
    "df_timediff['wait_time'] = (df_timestamp.started_on-df_timestamp.driver_reached_on)\n",
    "df_timediff['drive_time'] = (df_timestamp.completed_on-df_timestamp.started_on)\n",
    "df_timediff['wait_ratio'] = df_timediff['wait_time']/df_timediff['drive_time']\n",
    "print('TAXI data head')\n",
    "print(df_timediff.head())\n",
    "# Eleme data\n",
    "df_timediff_eleme = pd.DataFrame()\n",
    "df_timediff_eleme['uid'] = df_timestamp.uid\n",
    "df_timediff_eleme['wait_time'] = (df_timestamp_eleme.pickup_at-df_timestamp_eleme.arrive_rst_at)\n",
    "df_timediff_eleme['drive_time'] = (df_timestamp_eleme.deliver_at-df_timestamp_eleme.pickup_at)\n",
    "df_timediff_eleme['wait_ratio'] = df_timediff_eleme['wait_time']/df_timediff_eleme['drive_time']\n",
    "print('ELEME data head')\n",
    "print(df_timediff_eleme.head())"
   ]
  },
  {
   "cell_type": "code",
   "execution_count": 8,
   "metadata": {},
   "outputs": [],
   "source": [
    "# Remove invalid values\n",
    "# drive_time = 0 or wait_time = 0?\n",
    "# Taxi\n",
    "df_timediff = df_timediff[df_timediff.wait_time > 0]\n",
    "df_timediff = df_timediff[df_timediff.drive_time > 0]\n",
    "# EleMe\n",
    "df_timediff_eleme = df_timediff_eleme[df_timediff_eleme.wait_time > 0]\n",
    "df_timediff_eleme = df_timediff_eleme[df_timediff_eleme.drive_time > 0]"
   ]
  },
  {
   "cell_type": "code",
   "execution_count": 9,
   "metadata": {},
   "outputs": [
    {
     "name": "stdout",
     "output_type": "stream",
     "text": [
      "Boxplot before removing outliers\n"
     ]
    },
    {
     "data": {
      "image/png": "[encoded data removed]",
      "text/plain": [
       "<Figure size 432x288 with 1 Axes>"
      ]
     },
     "metadata": {},
     "output_type": "display_data"
    }
   ],
   "source": [
    "# Boxplot to have a first glance\n",
    "print('Boxplot before removing outliers')\n",
    "df_timediff.boxplot(column='wait_time')\n",
    "plt.show()"
   ]
  },
  {
   "cell_type": "code",
   "execution_count": 11,
   "metadata": {},
   "outputs": [
    {
     "name": "stdout",
     "output_type": "stream",
     "text": [
      "TAXI data, length before removing outliers: 1491209\n",
      "TAXI data, length after removing outliers: 1287770\n",
      "TAXI data, 0.0  of total data removed.\n"
     ]
    },
    {
     "data": {
      "image/png": "[encoded data removed]",
      "text/plain": [
       "<Figure size 432x288 with 1 Axes>"
      ]
     },
     "metadata": {},
     "output_type": "display_data"
    },
    {
     "data": {
      "image/png": "[encoded data removed]",
      "text/plain": [
       "<Figure size 432x288 with 1 Axes>"
      ]
     },
     "metadata": {},
     "output_type": "display_data"
    },
    {
     "name": "stdout",
     "output_type": "stream",
     "text": [
      "ELEME data, length before removing outliers: 9909\n",
      "ELEME data, length after removing outliers: 9360\n",
      "ELEME data, 0.0  of total data removed.\n"
     ]
    },
    {
     "data": {
      "image/png": "[encoded data removed]",
      "text/plain": [
       "<Figure size 432x288 with 1 Axes>"
      ]
     },
     "metadata": {},
     "output_type": "display_data"
    },
    {
     "data": {
      "image/png": "[encoded data removed]",
      "text/plain": [
       "<Figure size 432x288 with 1 Axes>"
      ]
     },
     "metadata": {},
     "output_type": "display_data"
    }
   ],
   "source": [
    "# Remove outliers (Standard Deviation method)\n",
    "# Taxi\n",
    "converged_taxi = 0\n",
    "print('TAXI data, length before removing outliers:', len(df_timediff.index))\n",
    "while converged_taxi == 0:\n",
    "    len_before_taxi = len(df_timediff.index)\n",
    "    \n",
    "    wait_time_mean = df_timediff.wait_time.mean()\n",
    "    wait_time_std = df_timediff.wait_time.std()\n",
    "    drive_time_mean = df_timediff.drive_time.mean()\n",
    "    drive_time_std = df_timediff.drive_time.std()\n",
    "    wait_ratio_mean = df_timediff.wait_ratio.mean()\n",
    "    wait_ratio_std = df_timediff.wait_ratio.std()\n",
    "    df_timediff = df_timediff[df_timediff.wait_time > wait_time_mean - 3*wait_time_std]\n",
    "    df_timediff = df_timediff[df_timediff.wait_time < wait_time_mean + 3*wait_time_std]\n",
    "    df_timediff = df_timediff[df_timediff.drive_time > drive_time_mean - 3*drive_time_std]\n",
    "    df_timediff = df_timediff[df_timediff.drive_time < drive_time_mean + 3*drive_time_std]\n",
    "    # df_timediff = df_timediff[df_timediff.wait_ratio > wait_ratio_mean - 3*wait_ratio_std]\n",
    "    # df_timediff = df_timediff[df_timediff.wait_ratio < wait_ratio_mean + 3*wait_ratio_std]\n",
    "    if len_before_taxi == len(df_timediff.index):\n",
    "        converged_taxi = 1\n",
    "print('TAXI data, length after removing outliers:', len(df_timediff.index))\n",
    "print('TAXI data,', round((len_before_taxi-len(df_timediff.index))/len_before_taxi,3),' of total data removed.')\n",
    "# Boxplot to have a first glance\n",
    "df_timediff.boxplot(column='wait_time')\n",
    "plt.title('TAXI wait_time boxplot')\n",
    "plt.show()\n",
    "df_timediff.boxplot(column='drive_time')\n",
    "plt.title('TAXI drive_time boxplot')\n",
    "plt.show()\n",
    "\n",
    "# ELE.ME\n",
    "print('ELEME data, length before removing outliers:', len(df_timediff_eleme.index))\n",
    "converged_eleme = 0\n",
    "while converged_eleme == 0:\n",
    "    len_before_eleme = len(df_timediff_eleme.index)  \n",
    "    wait_time_eleme_mean = df_timediff_eleme.wait_time.mean()\n",
    "    wait_time_eleme_std = df_timediff_eleme.wait_time.std()\n",
    "    drive_time_eleme_mean = df_timediff_eleme.drive_time.mean()\n",
    "    drive_time_eleme_std = df_timediff_eleme.drive_time.std()\n",
    "    wait_ratio_eleme_mean = df_timediff_eleme.wait_ratio.mean()\n",
    "    wait_ratio_eleme_std = df_timediff_eleme.wait_ratio.std()\n",
    "    df_timediff_eleme = df_timediff_eleme[df_timediff_eleme.wait_time > wait_time_eleme_mean - 3*wait_time_eleme_std]\n",
    "    df_timediff_eleme = df_timediff_eleme[df_timediff_eleme.wait_time < wait_time_eleme_mean + 3*wait_time_eleme_std]\n",
    "    df_timediff_eleme = df_timediff_eleme[df_timediff_eleme.drive_time > drive_time_eleme_mean - 3*drive_time_eleme_std]\n",
    "    df_timediff_eleme = df_timediff_eleme[df_timediff_eleme.drive_time < drive_time_eleme_mean + 3*drive_time_eleme_std]\n",
    "    # df_timediff_eleme = df_timediff_eleme[df_timediff_eleme.wait_ratio > wait_ratio_eleme_mean - 3*wait_ratio_eleme_std]\n",
    "    # df_timediff_eleme = df_timediff_eleme[df_timediff_eleme.wait_ratio < wait_ratio_eleme_mean + 3*wait_ratio_eleme_std]\n",
    "    if len_before_eleme == len(df_timediff_eleme.index):\n",
    "        converged_eleme = 1\n",
    "print('ELEME data, length after removing outliers:', len(df_timediff_eleme.index))\n",
    "print('ELEME data,', round((len_before_eleme-len(df_timediff_eleme.index))/len_before_eleme,3),' of total data removed.')\n",
    "# Boxplot to have a first glance\n",
    "df_timediff_eleme.boxplot(column='wait_time')\n",
    "plt.title('ELEME wait_time boxplot')\n",
    "plt.show()\n",
    "df_timediff_eleme.boxplot(column='drive_time')\n",
    "plt.title('ELEME drive_time boxplot')\n",
    "plt.show()"
   ]
  },
  {
   "cell_type": "code",
   "execution_count": 12,
   "metadata": {},
   "outputs": [
    {
     "name": "stdout",
     "output_type": "stream",
     "text": [
      "int64\n",
      "[[ 10  97]\n",
      " [  1 115]\n",
      " [ 10 102]\n",
      " ..., \n",
      " [ 44 478]\n",
      " [  4 588]\n",
      " [  5 168]]\n",
      "850996\n"
     ]
    }
   ],
   "source": [
    "# Remove outliers (kmeans)\n",
    "from sklearn.cluster import KMeans\n",
    "wait_time_taxi_array = np.int64(df_timediff.drop(['uid','wait_ratio'], axis=1).values)\n",
    "print(wait_time_taxi_array.dtype)\n",
    "print(wait_time_taxi_array)\n",
    "\n",
    "kmeans = KMeans(n_clusters=2).fit(wait_time_taxi_array)\n",
    "labels = kmeans.labels_\n",
    "print(np.sum(labels))"
   ]
  },
  {
   "cell_type": "code",
   "execution_count": 13,
   "metadata": {},
   "outputs": [
    {
     "name": "stdout",
     "output_type": "stream",
     "text": [
      "TAXI data summary\n",
      "wait_time_mean: 48.9492587962\n",
      "wait_time_std: 49.4211286204\n",
      "drive_time_mean: 719.857662471\n",
      "drive_time_std: 361.164383079\n",
      "wait_ratio_mean: 0.176386718501\n",
      "wait_ratio_std: 2.25182684248\n",
      "ELEME data summary\n",
      "wait_time_eleme_mean: 447.489102564\n",
      "wait_time_eleme_std: 397.387113924\n",
      "drive_time_eleme_mean: 814.537393162\n",
      "drive_time_eleme_std: 474.68919327\n",
      "wait_ratio_eleme_mean: 0.873881749584\n",
      "wait_ratio_eleme_std: 2.95752670629\n"
     ]
    },
    {
     "data": {
      "image/png": "[encoded data removed]",
      "text/plain": [
       "<Figure size 432x288 with 1 Axes>"
      ]
     },
     "metadata": {},
     "output_type": "display_data"
    },
    {
     "data": {
      "image/png": "[encoded data removed]",
      "text/plain": [
       "<Figure size 432x288 with 1 Axes>"
      ]
     },
     "metadata": {},
     "output_type": "display_data"
    },
    {
     "name": "stdout",
     "output_type": "stream",
     "text": [
      "timediff_sort sample order by wait_ratio desc\n",
      "             uid  wait_time  drive_time  wait_ratio\n",
      "1267375  1267375        197           1       197.0\n",
      "515864    515864        196           1       196.0\n",
      "200635    200635        196           1       196.0\n",
      "379883    379883        196           1       196.0\n",
      "454891    454891        195           1       195.0\n",
      "154047    154047        195           1       195.0\n",
      "398563    398563        195           1       195.0\n",
      "146094    146094        194           1       194.0\n",
      "15261      15261        193           1       193.0\n",
      "167311    167311        192           1       192.0\n",
      "timediff_eleme_sort sample order by wait_ratio desc ELEME\n",
      "       uid  wait_time  drive_time  wait_ratio\n",
      "5102  5102     1232.0         7.0  176.000000\n",
      "860    860     1088.0        11.0   98.909091\n",
      "8099  8099      856.0         9.0   95.111111\n",
      "8723  8723     1176.0        13.0   90.461538\n",
      "2542  2542      742.0        10.0   74.200000\n",
      "3913  3913     1042.0        15.0   69.466667\n",
      "9536  9536     1060.0        17.0   62.352941\n",
      "1108  1108     1440.0        52.0   27.692308\n",
      "4813  4813      689.0        35.0   19.685714\n",
      "7658  7658     1252.0        90.0   13.911111\n"
     ]
    },
    {
     "data": {
      "image/png": "[encoded data removed]",
      "text/plain": [
       "<Figure size 432x288 with 1 Axes>"
      ]
     },
     "metadata": {},
     "output_type": "display_data"
    },
    {
     "data": {
      "image/png": "[encoded data removed]",
      "text/plain": [
       "<Figure size 432x288 with 1 Axes>"
      ]
     },
     "metadata": {},
     "output_type": "display_data"
    }
   ],
   "source": [
    "# # Show some special cases\n",
    "# num_longer_than_1hour = 0\n",
    "# for index, row in df_timediff.iterrows():\n",
    "#     if row['wait_time'] > 3600:\n",
    "# #         print('Wait more than 1 hour?')\n",
    "# #         print('[row[uid]', row['uid'])\n",
    "# #         raw_row = rideaustin.loc[rideaustin['uid'] == row['uid']]\n",
    "# #         datatime_row = df_datetime.loc[df_datetime['uid'] == row['uid']]\n",
    "# #         print('df_datetime')\n",
    "# #         print(datatime_row)\n",
    "# #         print('rideaustin')\n",
    "# #         print(raw_row)\n",
    "# #         print('-------------------------------------------')\n",
    "#         num_longer_than_1hour = num_longer_than_1hour + 1        \n",
    "# print(num_longer_than_1hour)\n",
    "\n",
    "# Print result\n",
    "# Taxi\n",
    "print('TAXI data summary')\n",
    "print('wait_time_mean:',df_timediff.wait_time.mean())\n",
    "print('wait_time_std:', df_timediff.wait_time.std())\n",
    "print('drive_time_mean:', df_timediff.drive_time.mean())\n",
    "print('drive_time_std:', df_timediff.drive_time.std())\n",
    "print('wait_ratio_mean:', df_timediff.wait_ratio.mean())\n",
    "print('wait_ratio_std:', df_timediff.wait_ratio.std())\n",
    "# ELEME\n",
    "print('ELEME data summary')\n",
    "print('wait_time_eleme_mean:', df_timediff_eleme.wait_time.mean())\n",
    "print('wait_time_eleme_std:', df_timediff_eleme.wait_time.std())\n",
    "print('drive_time_eleme_mean:', df_timediff_eleme.drive_time.mean())\n",
    "print('drive_time_eleme_std:', df_timediff_eleme.drive_time.std())\n",
    "print('wait_ratio_eleme_mean:', df_timediff_eleme.wait_ratio.mean())\n",
    "print('wait_ratio_eleme_std:', df_timediff_eleme.wait_ratio.std())\n",
    "\n",
    "# Pie Chart\n",
    "# Taxi\n",
    "labels = ['Wait time', 'Drive time']\n",
    "sizes = [df_timediff.wait_time.mean(),df_timediff.drive_time.mean()]\n",
    "colors = ['gold','lightskyblue']\n",
    "explode = (0.1, 0)\n",
    "plt.pie(sizes, explode=explode, labels=labels, colors=colors, autopct='%1.1f%%', shadow=True, startangle=140) \n",
    "plt.axis('equal')\n",
    "plt.title('TAXI time partition')\n",
    "plt.show()\n",
    "# Eleme\n",
    "sizes = [df_timediff_eleme.wait_time.mean(),df_timediff_eleme.drive_time.mean()]\n",
    "plt.pie(sizes, explode=explode, labels=labels, colors=colors, autopct='%1.1f%%', shadow=True, startangle=140) \n",
    "plt.axis('equal')\n",
    "plt.title('ELEME time partition')\n",
    "plt.show()\n",
    "\n",
    "\n",
    "# # Get some sample to have a insight\n",
    "# # Taxi \n",
    "timediff_sample = df_timediff.sample(n=200)\n",
    "# print(timediff_sample)\n",
    "print('timediff_sort sample order by wait_ratio desc')\n",
    "timediff_sort = df_timediff.sort_values(by='wait_ratio', ascending=False)\n",
    "print(timediff_sort.head(10))\n",
    "# ELEME\n",
    "timediff_eleme_sample = df_timediff_eleme.sample(n=200)\n",
    "print('timediff_eleme_sort sample order by wait_ratio desc ELEME')\n",
    "timediff_eleme_sort = df_timediff_eleme.sort_values(by='wait_ratio', ascending=False)\n",
    "print(timediff_eleme_sort.head(10))\n",
    "# 为什么wait_ratio的mean和std是inf和nan？\n",
    "\n",
    "# # Hist of wait time\n",
    "# Taix\n",
    "timediff_sample.hist('wait_ratio', bins=10)\n",
    "plt.title('wait_ratio hist')\n",
    "plt.show()\n",
    "# ELEME\n",
    "timediff_eleme_sample.hist('wait_ratio', bins=10)\n",
    "plt.title('wait_ratio hist ELEME')\n",
    "plt.show()"
   ]
  },
  {
   "cell_type": "code",
   "execution_count": null,
   "metadata": {},
   "outputs": [],
   "source": []
  },
  {
   "cell_type": "code",
   "execution_count": null,
   "metadata": {},
   "outputs": [],
   "source": []
  }
 ],
 "metadata": {
  "kernelspec": {
   "display_name": "Python 3",
   "language": "python",
   "name": "python3"
  },
  "language_info": {
   "codemirror_mode": {
    "name": "ipython",
    "version": 3
   },
   "file_extension": ".py",
   "mimetype": "text/x-python",
   "name": "python",
   "nbconvert_exporter": "python",
   "pygments_lexer": "ipython3",
   "version": "3.6.4"
  }
 },
 "nbformat": 4,
 "nbformat_minor": 2
}

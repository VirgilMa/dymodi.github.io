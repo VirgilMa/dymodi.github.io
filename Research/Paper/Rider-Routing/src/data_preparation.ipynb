{
 "cells": [
  {
   "cell_type": "code",
   "execution_count": 1,
   "metadata": {},
   "outputs": [],
   "source": [
    "'''\n",
    "Compare the taxi carpool and food delivery system\n",
    "focus on waiting time and on-road time\n",
    "Yi Ding\n",
    "06/06/18\n",
    "'''\n",
    "\n",
    "import pandas as pd\n",
    "import os\n",
    "import numpy as np\n",
    "import matplotlib\n",
    "import matplotlib.pyplot as plt"
   ]
  },
  {
   "cell_type": "code",
   "execution_count": 38,
   "metadata": {},
   "outputs": [
    {
     "name": "stdout",
     "output_type": "stream",
     "text": [
      "           tracking_id  rider_id              accept_at  \\\n",
      "0  3000035672163039838   1003576  2018-06-24 11:28:32.0   \n",
      "1  3000036055229740322   1045716  2018-06-26 22:38:02.0   \n",
      "2  3000036205208142886   1052184  2018-06-27 21:39:15.0   \n",
      "3  3000036265077251207     10893  2018-06-28 11:11:58.0   \n",
      "4  3000036264760221477   1101778  2018-06-28 11:12:22.0   \n",
      "\n",
      "           arrive_rst_at              pickup_at             deliver_at  \n",
      "0  2018-06-24 11:31:05.0  2018-06-24 11:33:24.0  2018-06-24 11:41:44.0  \n",
      "1  2018-06-26 22:40:10.0  2018-06-26 22:45:21.0  2018-06-26 22:54:35.0  \n",
      "2  2018-06-27 21:39:28.0  2018-06-27 21:46:12.0  2018-06-27 22:08:02.0  \n",
      "3  2018-06-28 11:13:37.0  2018-06-28 11:17:49.0  2018-06-28 11:51:05.0  \n",
      "4  2018-06-28 11:13:41.0  2018-06-28 11:23:09.0  2018-06-28 11:31:38.0  \n"
     ]
    }
   ],
   "source": [
    "# Read in data\n",
    "# Note that we assume tracking_event data is order by rider_id and then accept_at\n",
    "df_tracking_event= pd.read_excel(\n",
    "    '/Users/eleme-yi/Documents/PhD/GitHub Pages/dymodi.github.io/Research/Paper/Rider-Routing/data/tracking_event.xlsx')\n",
    "# df_tracking_event['uid'] = df_tracking_event.index\n",
    "print(df_tracking_event.head())"
   ]
  },
  {
   "cell_type": "code",
   "execution_count": 40,
   "metadata": {},
   "outputs": [
    {
     "name": "stdout",
     "output_type": "stream",
     "text": [
      "Tracking event data, length before removing single order record 249\n",
      "Tracking event data, length after removing single order record 15\n"
     ]
    }
   ],
   "source": [
    "# Remove single order record\n",
    "print('Tracking event data, length before removing single order record', len(df_tracking_event.index))\n",
    "last_row = df_tracking_event.iloc[0]\n",
    "for ind in range(1,len(df_tracking_event.index)):\n",
    "    row = df_tracking_event.loc[ind]\n",
    "    if last_row.rider_id != row.rider_id:\n",
    "        df_tracking_event = df_tracking_event.drop([ind])\n",
    "    last_row = row\n",
    "print('Tracking event data, length after removing single order record', len(df_tracking_event.index))    \n"
   ]
  },
  {
   "cell_type": "code",
   "execution_count": null,
   "metadata": {},
   "outputs": [],
   "source": []
  }
 ],
 "metadata": {
  "kernelspec": {
   "display_name": "Python 3",
   "language": "python",
   "name": "python3"
  },
  "language_info": {
   "codemirror_mode": {
    "name": "ipython",
    "version": 3
   },
   "file_extension": ".py",
   "mimetype": "text/x-python",
   "name": "python",
   "nbconvert_exporter": "python",
   "pygments_lexer": "ipython3",
   "version": "3.6.4"
  }
 },
 "nbformat": 4,
 "nbformat_minor": 2
}

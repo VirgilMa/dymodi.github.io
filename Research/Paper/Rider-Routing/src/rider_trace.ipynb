{
 "cells": [
  {
   "cell_type": "code",
   "execution_count": 8,
   "metadata": {},
   "outputs": [],
   "source": [
    "# 画骑手轨迹，用于Return Path的motivation\n",
    "# Yi Ding\n",
    "# 07/17/18\n",
    "\n",
    "import matplotlib.pyplot as plt\n",
    "import gmplot\n",
    "import pandas as pd\n",
    "import os"
   ]
  },
  {
   "cell_type": "code",
   "execution_count": 63,
   "metadata": {},
   "outputs": [
    {
     "name": "stdout",
     "output_type": "stream",
     "text": [
      "    taker_id            record_time  time_stamp   longitude   latitude  \\\n",
      "0  113049002  2018-07-18 08:14:25.0  1531872865  123.416660  41.811597   \n",
      "1  113049002  2018-07-18 08:17:26.0  1531873046  123.413226  41.809427   \n",
      "2  113049002  2018-07-18 08:20:25.0  1531873225  123.413226  41.809427   \n",
      "3  113049002  2018-07-18 08:23:25.0  1531873405  123.413226  41.809427   \n",
      "4  113049002  2018-07-18 08:26:25.0  1531873585  123.413226  41.809427   \n",
      "\n",
      "                                              detail  zone_id  city_id  \\\n",
      "0  {\"speed\": -1, \"course\": -1, \"altitude\": 59, \"l...        0        0   \n",
      "1  {\"speed\": 0.1, \"course\": -1, \"altitude\": 55.8,...        0        0   \n",
      "2  {\"speed\": 0.1, \"course\": -1, \"altitude\": 55.8,...        0        0   \n",
      "3  {\"speed\": 0.1, \"course\": -1, \"altitude\": 55.8,...        0        0   \n",
      "4  {\"speed\": 0.1, \"course\": -1, \"altitude\": 55.8,...        0        0   \n",
      "\n",
      "           dt          type  \n",
      "0  2018-07-18  TALARIS_TEAM  \n",
      "1  2018-07-18  TALARIS_TEAM  \n",
      "2  2018-07-18  TALARIS_TEAM  \n",
      "3  2018-07-18  TALARIS_TEAM  \n",
      "4  2018-07-18  TALARIS_TEAM  \n",
      "          id  shipping_order_id          tracking_id  platform_id  \\\n",
      "0  184204345                  0  1200026772608198983           16   \n",
      "1  184202801                  0  1200026772608198983           16   \n",
      "2  184209337                  0  1200026772608198983           16   \n",
      "3  184231089                  0  1200026772608198983           16   \n",
      "4  168722753                  0  1200026708823280612           16   \n",
      "\n",
      "  platform_name  platform_merchant_id platform_merchant_name  \\\n",
      "0           饿了么             153150858                正宗隆江猪脚饭   \n",
      "1           饿了么             153150858                正宗隆江猪脚饭   \n",
      "2           饿了么             153150858                正宗隆江猪脚饭   \n",
      "3           饿了么             153150858                正宗隆江猪脚饭   \n",
      "4           饿了么             158085939                东北味道家常菜   \n",
      "\n",
      "   platform_tracking_id  carrier_id carrier_name    ...     agent_name  \\\n",
      "0   1222875085210662023           9          点我达    ...            NaN   \n",
      "1   1222875085210662023           9          点我达    ...            NaN   \n",
      "2   1222875085210662023           9          点我达    ...            NaN   \n",
      "3   1222875085210662023           9          点我达    ...            NaN   \n",
      "4   1222854342152436841           5         蜂鸟团队    ...            NaN   \n",
      "\n",
      "   station_id  station_name grid_id grid_name operate_type    knight_id  \\\n",
      "0           0           NaN       0       NaN            0          NaN   \n",
      "1           0           NaN       0       NaN            0          NaN   \n",
      "2           0           NaN       0       NaN            0          NaN   \n",
      "3           0           NaN       0       NaN            0          NaN   \n",
      "4           0           NaN       0       NaN            0  109863922.0   \n",
      "\n",
      "           dt normal_tracking_id is_normal  \n",
      "0  2018-07-18                NaN         0  \n",
      "1  2018-07-18                NaN         0  \n",
      "2  2018-07-18                NaN         0  \n",
      "3  2018-07-18                NaN         0  \n",
      "4  2018-07-18       1.200027e+18         1  \n",
      "\n",
      "[5 rows x 38 columns]\n"
     ]
    }
   ],
   "source": [
    "# Path Assign\n",
    "data_path = '/Users/eleme-yi/Documents/PhD/GitHub Pages/dymodi.github.io/Research/Paper/Rider-Routing/data/'\n",
    "figure_path = '/Users/eleme-yi/Documents/PhD/GitHub Pages/dymodi.github.io/Research/Paper/Rider-Routing/figures/'\n",
    "\n",
    "\n",
    "\n",
    "# Read in trace data\n",
    "trace_file = '.'.join(['_'.join(['rider_trace',date_str, str(rider_id)]),'xlsx'])\n",
    "df_rider_trace = pd.read_excel(os.path.join(data_path, trace_file))\n",
    "print(df_rider_trace.head())\n",
    "\n"
   ]
  },
  {
   "cell_type": "code",
   "execution_count": 72,
   "metadata": {},
   "outputs": [],
   "source": [
    "# Here we def the function to draw tracking event\n",
    "# date_str = '2018-07-18'\n",
    "# rider_id_list = [106279218]\n",
    "def plot_tracking_event(date_str, rider_id_list, data_path, need_trace = False):\n",
    "    \n",
    "    # Plot size\n",
    "    waypoint_size = 200\n",
    "    \n",
    "    # Read in file as pandas dataframe\n",
    "    # Read in tracking event data\n",
    "    track_event_file = '_'.join(['tracking_event',date_str])\n",
    "    track_event_file = '.'.join([track_event_file,'xlsx'])\n",
    "    df_tracking_event_all = pd.read_excel(os.path.join(data_path, track_event_file))\n",
    "    # print(df_tracking_event_all.head())\n",
    "    \n",
    "    for rider_id in rider_id_list:\n",
    "        print('plot tracking event for rider_id:',rider_id)\n",
    "        index_rider = df_tracking_event_all['carrier_driver_id'] == rider_id\n",
    "        df_tracking_event = df_tracking_event_all[index_rider]\n",
    "        # print(df_tracking_event.head())\n",
    "        index_normal = df_tracking_event['is_normal'] == 1\n",
    "        index_return = df_tracking_event['is_normal'] == 0\n",
    "        df_normal_order = df_tracking_event[index_normal]\n",
    "        df_return_order = df_tracking_event[index_return]\n",
    "        index_normal_pickup = df_normal_order['shipping_state'] == 80\n",
    "        index_normal_delivr = df_normal_order['shipping_state'] == 40\n",
    "        df_normal_pickup = df_normal_order[index_normal_pickup]\n",
    "        df_normal_delivr = df_normal_order[index_normal_delivr]\n",
    "        index_return_pickup = df_return_order['shipping_state'] == 80\n",
    "        index_return_delivr = df_return_order['shipping_state'] == 40\n",
    "        df_return_pickup = df_return_order[index_return_pickup]\n",
    "        df_return_delivr = df_return_order[index_return_delivr]\n",
    "        # print(df_normal_order.head())\n",
    "        # print(df_normal_pickup.head())\n",
    "        # print(df_return_pickup.head())\n",
    "        # Plot\n",
    "        file_name = '_'.join(['rider_tracking_event',date_str, str(rider_id)])\n",
    "        file_name = '.'.join([file_name,'html'])\n",
    "        figure_name = os.path.join(figure_path, file_name)\n",
    "        if df_normal_pickup.empty:\n",
    "            lat_cen = df_return_pickup['latitude'].iloc[0]\n",
    "            lon_cen = df_return_pickup['longitude'].iloc[0]\n",
    "        else:\n",
    "            lat_cen = df_normal_pickup['latitude'].iloc[0]\n",
    "            lon_cen = df_normal_pickup['longitude'].iloc[0]\n",
    "        # print('lat/lon cen:',lat_cen, lon_cen)\n",
    "        gmap = gmplot.GoogleMapPlotter(lat_cen, lon_cen, 16)\n",
    "        gmap.scatter(df_normal_pickup['latitude'].tolist(), df_normal_pickup['longitude'].tolist(), \n",
    "                     'salmon', size = waypoint_size, marker=True)\n",
    "        gmap.scatter(df_normal_delivr['latitude'].tolist(), df_normal_delivr['longitude'].tolist(), \n",
    "                     'yellowgreen', size = waypoint_size, marker=True)\n",
    "        gmap.scatter(df_return_pickup['latitude'].tolist(), df_return_pickup['longitude'].tolist(), \n",
    "                     'crimson', size = waypoint_size, marker=True)\n",
    "        gmap.scatter(df_return_delivr['latitude'].tolist(), df_return_delivr['longitude'].tolist(), \n",
    "                     'green', size = waypoint_size, marker=True)\n",
    "        if need_trace:\n",
    "            # Read in trace data\n",
    "            trace_file = '.'.join(['_'.join(['rider_trace',date_str, str(rider_id)]),'xlsx'])\n",
    "            df_rider_trace = pd.read_excel(os.path.join(data_path, trace_file))\n",
    "            gmap = gmplot.GoogleMapPlotter(df_rider_trace['latitude'].iloc[0], df_rider_trace['longitude'].iloc[0], 16)\n",
    "            gmap.plot(df_rider_trace['latitude'].tolist(), df_rider_trace['longitude'].tolist(), 'blue', edge_width=10)\n",
    "            # gmap.scatter(df_rider_trace['latitude'].tolist(), df_rider_trace['longitude'].tolist(), 'green', marker=True)        \n",
    "        gmap.draw(figure_name)\n",
    "    "
   ]
  },
  {
   "cell_type": "code",
   "execution_count": 65,
   "metadata": {},
   "outputs": [],
   "source": [
    "# Plot trace\n",
    "date_str = '2018-07-18'\n",
    "rider_id = 113049002\n",
    "\n",
    "figure_file = '.'.join(['_'.join(['rider_trace', date_str, str(rider_id)]),'html'])\n",
    "figure_name = os.path.join(figure_path, figure_file)\n",
    "\n",
    "gmap = gmplot.GoogleMapPlotter(df_rider_trace['latitude'].iloc[0], df_rider_trace['longitude'].iloc[0], 16)\n",
    "gmap.plot(df_rider_trace['latitude'].tolist(), df_rider_trace['longitude'].tolist(), 'blue', edge_width=10)\n",
    "# gmap.scatter(df_rider_trace['latitude'].tolist(), df_rider_trace['longitude'].tolist(), 'green', marker=True)\n",
    "gmap.draw(figure_name)"
   ]
  },
  {
   "cell_type": "code",
   "execution_count": 74,
   "metadata": {},
   "outputs": [
    {
     "name": "stdout",
     "output_type": "stream",
     "text": [
      "plot tracking event for rider_id: 113049002\n"
     ]
    }
   ],
   "source": [
    "# Plot the event and trace for single rider for slide\n",
    "date_str = '2018-07-18'\n",
    "rider_id_list = [113049002]\n",
    "plot_tracking_event(date_str, rider_id_list, data_path, need_trace = True)"
   ]
  },
  {
   "cell_type": "code",
   "execution_count": 69,
   "metadata": {},
   "outputs": [
    {
     "name": "stdout",
     "output_type": "stream",
     "text": [
      "rider_list: [1042584, 109863922, 4396890, 836222, 112823786, 10799990, 113049002, 110934626, 102383762, 106279218]\n",
      "plot tracking event for rider_id: 1042584\n",
      "plot tracking event for rider_id: 109863922\n",
      "plot tracking event for rider_id: 4396890\n",
      "plot tracking event for rider_id: 836222\n",
      "plot tracking event for rider_id: 112823786\n",
      "plot tracking event for rider_id: 10799990\n",
      "plot tracking event for rider_id: 113049002\n",
      "plot tracking event for rider_id: 110934626\n",
      "plot tracking event for rider_id: 102383762\n",
      "plot tracking event for rider_id: 106279218\n"
     ]
    }
   ],
   "source": [
    "# Plot pickup point\n",
    "# Prepare data\n",
    "rider_id_list = df_tracking_event_all['carrier_driver_id'].drop_duplicates().tolist()\n",
    "print('rider_list:',rider_id_list)\n",
    "\n",
    "# Date\n",
    "date_str = '2018-07-18'\n",
    "# \n",
    "plot_tracking_event(date_str, rider_id_list, data_path)\n",
    "\n",
    "    "
   ]
  },
  {
   "cell_type": "code",
   "execution_count": null,
   "metadata": {},
   "outputs": [],
   "source": []
  }
 ],
 "metadata": {
  "kernelspec": {
   "display_name": "Python 3",
   "language": "python",
   "name": "python3"
  },
  "language_info": {
   "codemirror_mode": {
    "name": "ipython",
    "version": 3
   },
   "file_extension": ".py",
   "mimetype": "text/x-python",
   "name": "python",
   "nbconvert_exporter": "python",
   "pygments_lexer": "ipython3",
   "version": "3.6.4"
  }
 },
 "nbformat": 4,
 "nbformat_minor": 2
}

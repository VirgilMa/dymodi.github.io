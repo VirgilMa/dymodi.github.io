{
 "cells": [
  {
   "cell_type": "code",
   "execution_count": 8,
   "metadata": {},
   "outputs": [],
   "source": [
    "# 画骑手轨迹，用于Return Path的motivation\n",
    "# Yi Ding\n",
    "# 07/17/18\n",
    "\n",
    "import matplotlib.pyplot as plt\n",
    "import gmplot\n",
    "import pandas as pd\n",
    "import os"
   ]
  },
  {
   "cell_type": "code",
   "execution_count": 11,
   "metadata": {},
   "outputs": [
    {
     "name": "stdout",
     "output_type": "stream",
     "text": [
      "   taker_id            record_time  time_stamp   longitude   latitude  \\\n",
      "0  10820633  2018-07-16 08:34:15.0  1531701255  121.426871  31.293167   \n",
      "1  10820633  2018-07-16 08:35:37.0  1531701337  121.426871  31.293167   \n",
      "2  10820633  2018-07-16 08:38:45.0  1531701525  121.426899  31.293202   \n",
      "3  10820633  2018-07-16 08:41:45.0  1531701705  121.426914  31.293196   \n",
      "4  10820633  2018-07-16 08:44:45.0  1531701885  121.426920  31.293189   \n",
      "\n",
      "                                              detail  zone_id  city_id  \\\n",
      "0  {\"speed\": 0, \"course\": 0, \"altitude\": 0, \"lati...        0        0   \n",
      "1  {\"speed\": 0, \"course\": 0, \"altitude\": 0, \"lati...        0        0   \n",
      "2  {\"speed\": 0, \"course\": 0, \"altitude\": 29.7, \"l...        0        0   \n",
      "3  {\"speed\": 0, \"course\": 0, \"altitude\": 32.6, \"l...        0        0   \n",
      "4  {\"speed\": 0, \"course\": 0, \"altitude\": 34.6, \"l...        0        0   \n",
      "\n",
      "           dt          type  \n",
      "0  2018-07-16  TALARIS_TEAM  \n",
      "1  2018-07-16  TALARIS_TEAM  \n",
      "2  2018-07-16  TALARIS_TEAM  \n",
      "3  2018-07-16  TALARIS_TEAM  \n",
      "4  2018-07-16  TALARIS_TEAM  \n"
     ]
    }
   ],
   "source": [
    "# Read in data\n",
    "df_rider_trace= pd.read_excel(\n",
    "    '/Users/eleme-yi/Documents/PhD/GitHub Pages/dymodi.github.io/Research/Paper/Rider-Routing/data/rider_trace_10820633.xlsx')\n",
    "print(df_rider_trace.head())\n",
    "figure_path = '/Users/eleme-yi/Documents/PhD/GitHub Pages/dymodi.github.io/Research/Paper/Rider-Routing/figures/'\n",
    "figure_name = os.path.join(figure_path, 'rider_trace_10820633.html')"
   ]
  },
  {
   "cell_type": "code",
   "execution_count": 13,
   "metadata": {},
   "outputs": [],
   "source": [
    "# Plot trace\n",
    "gmap = gmplot.GoogleMapPlotter(df_rider_trace['latitude'].iloc[0], df_rider_trace['longitude'].iloc[0], 16)\n",
    "# gmap.plot(df_rider_trace['latitude'].tolist(), df_rider_trace['longitude'].tolist(), 'blue', edge_width=10)\n",
    "gmap.scatter(df_rider_trace['latitude'].tolist(), df_rider_trace['longitude'].tolist(), 'green', marker=True)\n",
    "gmap.draw(figure_name)"
   ]
  },
  {
   "cell_type": "code",
   "execution_count": null,
   "metadata": {},
   "outputs": [],
   "source": []
  }
 ],
 "metadata": {
  "kernelspec": {
   "display_name": "Python 3",
   "language": "python",
   "name": "python3"
  },
  "language_info": {
   "codemirror_mode": {
    "name": "ipython",
    "version": 3
   },
   "file_extension": ".py",
   "mimetype": "text/x-python",
   "name": "python",
   "nbconvert_exporter": "python",
   "pygments_lexer": "ipython3",
   "version": "3.6.4"
  }
 },
 "nbformat": 4,
 "nbformat_minor": 2
}

{
 "cells": [
  {
   "cell_type": "code",
   "execution_count": 18,
   "metadata": {},
   "outputs": [],
   "source": [
    "# 画骑手的3单轨迹\n",
    "# 2018/07/27\n",
    "\n",
    "import matplotlib.pyplot as plt\n",
    "import gmplot\n",
    "import pandas as pd\n",
    "import os\n",
    "import random\n",
    "\n",
    "\n",
    "# Path Assign\n",
    "data_path = '/Users/eleme-yi/Downloads'\n",
    "figure_path = '/Users/eleme-yi/Documents/PhD/GitHub Pages/dymodi.github.io/Research/Paper/Rider-Routing/figures/'"
   ]
  },
  {
   "cell_type": "code",
   "execution_count": null,
   "metadata": {},
   "outputs": [],
   "source": []
  },
  {
   "cell_type": "code",
   "execution_count": 2,
   "metadata": {},
   "outputs": [
    {
     "name": "stdout",
     "output_type": "stream",
     "text": [
      "    rider_id  rn          tracking_id  shipping_state           ocurred_time  \\\n",
      "0  101830666  15  3000040786076577729              20  2018-07-29 00:01:06.0   \n",
      "1  101830666  15  3000040784834571273              20  2018-07-29 00:05:06.0   \n",
      "2  101830666  15  3000040784159780740              20  2018-07-29 00:07:06.0   \n",
      "3  101830666  15  3000040784159780740              80  2018-07-29 00:14:45.0   \n",
      "4  101830666  15  3000040784834571273              80  2018-07-29 00:14:47.0   \n",
      "\n",
      "    latitude   longitude  shop_latitude  shop_longitude  \n",
      "0  28.939634  118.886344      28.943290      118.886718  \n",
      "1  28.943959  118.886132      28.942990      118.886282  \n",
      "2  28.944009  118.886111      28.941432      118.884321  \n",
      "3  28.944009  118.886111      28.941432      118.884321  \n",
      "4  28.944009  118.886111      28.942990      118.886282  \n"
     ]
    }
   ],
   "source": [
    "# Read data\n",
    "file_name = 'three_order_trace_test_072718.xlsx'\n",
    "df_three_order_trace_all = pd.read_excel(os.path.join(data_path, file_name))\n",
    "print(df_three_order_trace_all.head())"
   ]
  },
  {
   "cell_type": "code",
   "execution_count": 3,
   "metadata": {},
   "outputs": [],
   "source": [
    "# Draw by rn\n",
    "fig_limit = 20\n",
    "waypoint_size = 200\n",
    "rn_list = df_three_order_trace_all['rn'].drop_duplicates().tolist()\n",
    "\n",
    "fig_num = 0\n",
    "for rn in rn_list:\n",
    "    fig_num = fig_num + 1\n",
    "    # Break if reach limit\n",
    "    if fig_num > fig_limit:\n",
    "        break\n",
    "    # Extract data\n",
    "    index_rn = df_three_order_trace_all['rn'] == rn\n",
    "    df_trace = df_three_order_trace_all[index_rn]\n",
    "    \n",
    "    lat_cen = df_trace['latitude'].iloc[0]\n",
    "    lon_cen = df_trace['longitude'].iloc[0]\n",
    "\n",
    "    gmap = gmplot.GoogleMapPlotter(lat_cen, lon_cen, 16)\n",
    "    \n",
    "    index_20 = df_trace['shipping_state'] == 20\n",
    "    index_80 = df_trace['shipping_state'] == 80\n",
    "    index_30 = df_trace['shipping_state'] == 30\n",
    "    index_40 = df_trace['shipping_state'] == 40\n",
    "    \n",
    "    df_20 = df_trace[index_20]\n",
    "    df_80 = df_trace[index_80]\n",
    "    df_30 = df_trace[index_30]\n",
    "    df_40 = df_trace[index_40]\n",
    "\n",
    "    lat_list = df_trace['latitude'].tolist()\n",
    "    lon_list = df_trace['longitude'].tolist()\n",
    "    gmap.plot(lat_list, lon_list,'yellowgreen', size = waypoint_size, edge_width=7)\n",
    "    \n",
    "    # Shop location\n",
    "    lat_shop_list = df_20['shop_latitude'].tolist()\n",
    "    lon_shop_list = df_20['shop_longitude'].tolist()\n",
    "    gmap.scatter(lat_shop_list, lon_shop_list, 'black', size = waypoint_size, marker=True)\n",
    "    \n",
    "    # lat_20_list = df_20['latitude'].tolist()\n",
    "    # lon_20_list = df_20['longitude'].tolist()\n",
    "    # gmap.scatter(lat_20_list, lon_20_list, 'darkgreen', size = waypoint_size, marker=True)\n",
    "    \n",
    "    # lat_80_list = df_80['latitude'].tolist()\n",
    "    # lon_80_list = df_80['longitude'].tolist()\n",
    "    # gmap.scatter(lat_80_list, lon_80_list, 'gold', size = waypoint_size, marker=True)\n",
    "    \n",
    "    # lat_30_list = df_30['latitude'].tolist()\n",
    "    # lon_30_list = df_30['longitude'].tolist()\n",
    "    # gmap.scatter(lat_30_list, lon_30_list, 'salmon', size = waypoint_size, marker=True)\n",
    "    \n",
    "    # Delivery\n",
    "    lat_40_list = df_40['latitude'].tolist()\n",
    "    lon_40_list = df_40['longitude'].tolist()\n",
    "    gmap.scatter(lat_40_list, lon_40_list, 'cyan', size = waypoint_size, marker=True)\n",
    "    \n",
    "    file_name = '_'.join(['three_order_trace', str(rn)])\n",
    "    file_name = '.'.join([file_name,'html'])\n",
    "    figure_name = os.path.join(figure_path, file_name)\n",
    "    \n",
    "    gmap.draw(figure_name)"
   ]
  },
  {
   "cell_type": "code",
   "execution_count": null,
   "metadata": {},
   "outputs": [],
   "source": []
  }
 ],
 "metadata": {
  "kernelspec": {
   "display_name": "Python 3",
   "language": "python",
   "name": "python3"
  },
  "language_info": {
   "codemirror_mode": {
    "name": "ipython",
    "version": 3
   },
   "file_extension": ".py",
   "mimetype": "text/x-python",
   "name": "python",
   "nbconvert_exporter": "python",
   "pygments_lexer": "ipython3",
   "version": "3.6.4"
  }
 },
 "nbformat": 4,
 "nbformat_minor": 2
}
